{
 "cells": [
  {
   "cell_type": "markdown",
   "metadata": {},
   "source": [
    "HEADLINE_DETECTION USING MULTINOMIAL_NAIVE_BAYES_CLASSIFIER"
   ]
  },
  {
   "cell_type": "code",
   "execution_count": 3,
   "metadata": {},
   "outputs": [],
   "source": [
    "#function to load the datasets \n",
    "#this function load the datasets and process the categories for further uses\n",
    "def load_categories():\n",
    "    from sklearn.datasets import fetch_20newsgroups\n",
    "    categories =  ['alt.atheism',\n",
    " 'comp.graphics',\n",
    " 'comp.os.ms-windows.misc',\n",
    " 'comp.sys.ibm.pc.hardware',\n",
    " 'comp.sys.mac.hardware',\n",
    " 'comp.windows.x',\n",
    " 'misc.forsale',\n",
    " 'rec.autos',\n",
    " 'rec.motorcycles',\n",
    " 'rec.sport.baseball',\n",
    " 'rec.sport.hockey',\n",
    " 'sci.crypt',\n",
    " 'sci.electronics',\n",
    " 'sci.med',\n",
    " 'sci.space',\n",
    " 'soc.religion.christian',\n",
    " 'talk.politics.guns',\n",
    " 'talk.politics.mideast',\n",
    " 'talk.politics.misc',\n",
    " 'talk.religion.misc']\n",
    "    return categories"
   ]
  },
  {
   "cell_type": "code",
   "execution_count": 20,
   "metadata": {},
   "outputs": [],
   "source": [
    "# this data train the datasets for further processing\n",
    "# here sklearn imports the training data \n",
    "# feature extraction is done using the sklearn.feature_extraction and count_vectorizer is implemented\n",
    "# count_vectorizer gives a specific number to the our all training samples \n",
    "# tfidf_transformer gives a specific frequency to the transformer so that we can apply naive_bayes classifier to it\n",
    "def train_data():\n",
    "    categories = load_categories()\n",
    "    from sklearn.datasets import fetch_20newsgroups\n",
    "    from sklearn.datasets import fetch_20newsgroups\n",
    "    news_train = fetch_20newsgroups(subset='train',categories=categories,shuffle=True)\n",
    "    from sklearn.feature_extraction.text import CountVectorizer\n",
    "    count_vect = CountVectorizer()\n",
    "    X_train_tf = count_vect.fit_transform(news_train.data)\n",
    "    from sklearn.feature_extraction.text import TfidfTransformer\n",
    "    vectorizer = TfidfTransformer()\n",
    "    return categories,X_train_tf,news_train,count_vect,vectorizer"
   ]
  },
  {
   "cell_type": "code",
   "execution_count": 18,
   "metadata": {},
   "outputs": [],
   "source": [
    "#function used to predict the headlines\n",
    "# this function is used to predict the headlines given or extracted from the frame using optical_character_recognition\n",
    "# we import sklearn.naive_baye classifier for the further implementation and to find out the probability of each word given a particular index\n",
    "# count-vectorizer and tfidf_transformer is taken from the train_data() and is used to predict the data\n",
    "\n",
    "def predict_headlines(headlines):\n",
    "    categories,X_train_tf,news_train,count_vect,vectorizer = train_data()\n",
    "    from sklearn.naive_bayes import MultinomialNB\n",
    "    clf = MultinomialNB().fit(X_train_tf,news_train.target)\n",
    "    x_new_counts = count_vect.transform(headlines)\n",
    "    x_new_tfidf = vectorizer.fit_transform(x_new_counts)\n",
    "    predicted = clf.predict(x_new_tfidf)\n",
    "    i = 0\n",
    "    for x in predicted:\n",
    "        print('the headline '+headlines[i]+' belongs to the category ' +categories[x])\n",
    "        i = i+1"
   ]
  },
  {
   "cell_type": "code",
   "execution_count": 21,
   "metadata": {},
   "outputs": [
    {
     "name": "stdout",
     "output_type": "stream",
     "text": [
      "the headline AYODHA CLASH IS OVER belongs to the category talk.politics.mideast\n",
      "the headline ENGLAND WON THE CRICKET WORLD CUP belongs to the category rec.sport.hockey\n"
     ]
    }
   ],
   "source": [
    "# sample data given to the function predict_headlines() and the data is getting predicted \n",
    "headlines = ['AYODHA CLASH IS OVER','ENGLAND WON THE CRICKET WORLD CUP']\n",
    "predict_headlines(headlines)"
   ]
  },
  {
   "cell_type": "code",
   "execution_count": null,
   "metadata": {},
   "outputs": [],
   "source": []
  }
 ],
 "metadata": {
  "kernelspec": {
   "display_name": "Python 3",
   "language": "python",
   "name": "python3"
  },
  "language_info": {
   "codemirror_mode": {
    "name": "ipython",
    "version": 3
   },
   "file_extension": ".py",
   "mimetype": "text/x-python",
   "name": "python",
   "nbconvert_exporter": "python",
   "pygments_lexer": "ipython3",
   "version": "3.7.6"
  }
 },
 "nbformat": 4,
 "nbformat_minor": 4
}
